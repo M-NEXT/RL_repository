{
 "cells": [
  {
   "cell_type": "markdown",
   "source": [
    "# Importing libraries"
   ],
   "metadata": {}
  },
  {
   "cell_type": "code",
   "execution_count": 1,
   "source": [
    "import gym\n",
    "import math\n",
    "import random\n",
    "import numpy as np\n",
    "import matplotlib\n",
    "import matplotlib.pyplot as plt\n",
    "#matplotlib.use('TkAgg')\n",
    "import torch\n",
    "import torch.nn as nn\n",
    "import torch.optim as optim\n",
    "import torch.nn.functional as F"
   ],
   "outputs": [],
   "metadata": {}
  },
  {
   "cell_type": "markdown",
   "source": [
    "## Random Actions on env"
   ],
   "metadata": {}
  },
  {
   "cell_type": "code",
   "execution_count": 4,
   "source": [
    "env = gym.make('CartPole-v0')\n",
    "env.reset()\n",
    "for i in range(10):\n",
    "    env.step(0)\n",
    "    env.render()"
   ],
   "outputs": [
    {
     "output_type": "stream",
     "name": "stderr",
     "text": [
      "/home/tanmayp/Desktop/RL/Minigrid/rl_env/lib/python3.8/site-packages/gym/logger.py:30: UserWarning: \u001b[33mWARN: You are calling 'step()' even though this environment has already returned done = True. You should always call 'reset()' once you receive 'done = True' -- any further steps are undefined behavior.\u001b[0m\n",
      "  warnings.warn(colorize('%s: %s'%('WARN', msg % args), 'yellow'))\n"
     ]
    }
   ],
   "metadata": {}
  },
  {
   "cell_type": "markdown",
   "source": [
    "## Creating linear layer network for Function approximation"
   ],
   "metadata": {}
  },
  {
   "cell_type": "code",
   "execution_count": 2,
   "source": [
    "class DQN(nn.Module):\n",
    "    def __init__(self, input_dims, lr):\n",
    "        super().__init__()\n",
    "        self.fc1 = nn.Linear(in_features=input_dims, out_features=32)  #\n",
    "        self.fc2 = nn.Linear(in_features=32, out_features=2)\n",
    "        #self.fc3 = nn.Linear(in_features=128, out_features=2)\n",
    "        self.optimizer = optim.Adam(self.parameters(), lr=lr)\n",
    "        self.loss = nn.MSELoss()\n",
    "        \n",
    "    def forward(self, t):\n",
    "        t = self.fc1(t)\n",
    "        t = F.relu(t)\n",
    "        t = self.fc2(t)\n",
    "        #t = F.relu(t)\n",
    "        #t = self.fc3(t)\n",
    "        return t"
   ],
   "outputs": [],
   "metadata": {}
  },
  {
   "cell_type": "markdown",
   "source": [
    "## Creating Agent class for action selection"
   ],
   "metadata": {}
  },
  {
   "cell_type": "code",
   "execution_count": 3,
   "source": [
    "class Agent():\n",
    "    def __init__(self, gamma, eps, eps_min, eps_decay, num_actions, device):\n",
    "        self.gamma = gamma\n",
    "        self.eps = eps\n",
    "        self.eps_min = eps_min\n",
    "        self.eps_decay = eps_decay\n",
    "        self.num_actions = num_actions\n",
    "        self.device = device\n",
    "    \n",
    "    def select_action(self, rate, state, policy_net):\n",
    "        if random.random() > rate:\n",
    "            obs = torch.tensor([state], dtype=torch.float32).to(self.device)\n",
    "            return policy_net(obs).argmax(dim=1).item()\n",
    "        else:\n",
    "            return np.random.choice(self.num_actions)"
   ],
   "outputs": [],
   "metadata": {}
  },
  {
   "cell_type": "markdown",
   "source": [
    "## Creating Replay Memory class for storing data and providing dataset"
   ],
   "metadata": {}
  },
  {
   "cell_type": "code",
   "execution_count": 4,
   "source": [
    "class ReplayMemory():\n",
    "    def __init__(self, capacity, batch_size, input_dims, eps, eps_min, eps_decay):\n",
    "        self.capacity = capacity\n",
    "        self.batch_size = batch_size\n",
    "        self.state_memory  = np.zeros((capacity, input_dims), dtype=np.float32)\n",
    "        self.action_memory = np.zeros(capacity, dtype=np.int32)\n",
    "        self.reward_memory = np.zeros(capacity, dtype=np.float32)\n",
    "        self.next_state_memory = np.zeros((capacity, input_dims), dtype=np.float32)\n",
    "        self.terminal_memory = np.zeros(capacity, dtype=np.bool)\n",
    "        self.eps = eps\n",
    "        self.eps_min = eps_min\n",
    "        self.eps_decay = eps_decay\n",
    "        self.experience_ctr = 0\n",
    "        \n",
    "    def store(self, state, action, reward, next_state, terminal):\n",
    "        index = self.experience_ctr % self.capacity\n",
    "        self.state_memory[index] = state\n",
    "        self.action_memory[index] = action\n",
    "        self.reward_memory[index] = reward\n",
    "        self.next_state_memory[index] = next_state\n",
    "        self.terminal_memory[index] = terminal\n",
    "        self.experience_ctr += 1\n",
    "        \n",
    "    def can_provide_batch(self):\n",
    "        return self.experience_ctr >= batch_size\n",
    "    \n",
    "    def give_batch(self):\n",
    "        length = min(self.experience_ctr, self.capacity)\n",
    "        batch = np.random.choice(length, self.batch_size, replace=False)\n",
    "        states = self.state_memory[batch]\n",
    "        actions = self.action_memory[batch]\n",
    "        rewards = self.reward_memory[batch]\n",
    "        next_states = self.next_state_memory[batch]\n",
    "        terminals = self.terminal_memory[batch]\n",
    "        return (states, actions, rewards, next_states, terminals)\n",
    "    \n",
    "    def get_epsilon(self):\n",
    "        #print(self.experience_ctr)\n",
    "        rate = self.eps_min + (self.eps - self.eps_min) * math.exp(-1. * self.experience_ctr / self.eps_decay)\n",
    "        return rate"
   ],
   "outputs": [],
   "metadata": {}
  },
  {
   "cell_type": "markdown",
   "source": [
    "## Parameters"
   ],
   "metadata": {}
  },
  {
   "cell_type": "code",
   "execution_count": 5,
   "source": [
    "batch_size = 64\n",
    "gamma = 0.999\n",
    "eps = 0.9\n",
    "eps_min = 0.05\n",
    "eps_decay = 500\n",
    "update_rate = 10\n",
    "capacity = 100000\n",
    "lr = 0.001\n",
    "input_dims = 4\n",
    "num_episodes = 200"
   ],
   "outputs": [],
   "metadata": {}
  },
  {
   "cell_type": "code",
   "execution_count": 6,
   "source": [
    "device = torch.device(\"cuda\" if torch.cuda.is_available() else \"cpu\")"
   ],
   "outputs": [],
   "metadata": {}
  },
  {
   "cell_type": "markdown",
   "source": [
    "## Defining policy and Target Nets"
   ],
   "metadata": {}
  },
  {
   "cell_type": "code",
   "execution_count": 7,
   "source": [
    "policy_net = DQN(input_dims, lr).to(device)\n",
    "target_net = DQN(input_dims, lr).to(device)\n",
    "target_net.load_state_dict(policy_net.state_dict())\n",
    "target_net.eval()"
   ],
   "outputs": [
    {
     "output_type": "execute_result",
     "data": {
      "text/plain": [
       "DQN(\n",
       "  (fc1): Linear(in_features=4, out_features=32, bias=True)\n",
       "  (fc2): Linear(in_features=32, out_features=2, bias=True)\n",
       "  (loss): MSELoss()\n",
       ")"
      ]
     },
     "metadata": {},
     "execution_count": 7
    }
   ],
   "metadata": {}
  },
  {
   "cell_type": "code",
   "execution_count": 8,
   "source": [
    "pytorch_total_params = sum(p.numel() for p in policy_net.parameters())\n",
    "print(f\"total parameters = {pytorch_total_params}\")"
   ],
   "outputs": [
    {
     "output_type": "stream",
     "name": "stdout",
     "text": [
      "total parameters = 226\n"
     ]
    }
   ],
   "metadata": {}
  },
  {
   "cell_type": "markdown",
   "source": [
    "## Making environment, agent and memory"
   ],
   "metadata": {}
  },
  {
   "cell_type": "code",
   "execution_count": 9,
   "source": [
    "agent = Agent(gamma, eps, eps_min, eps_decay, 2, device)\n",
    "memory = ReplayMemory(capacity, batch_size, 4, eps, eps_min, eps_decay)"
   ],
   "outputs": [],
   "metadata": {}
  },
  {
   "cell_type": "code",
   "execution_count": 10,
   "source": [
    "env = gym.make('CartPole-v0')"
   ],
   "outputs": [],
   "metadata": {}
  },
  {
   "cell_type": "code",
   "execution_count": 11,
   "source": [
    "def get_tensors(batch, device):\n",
    "    states = torch.tensor(batch[0]).to(device)\n",
    "    actions = batch[1]\n",
    "    rewards = torch.tensor(batch[2]).to(device)\n",
    "    next_states = torch.tensor(batch[3]).to(device)\n",
    "    dones = torch.tensor(batch[4]).to(device)\n",
    "    return states, actions, rewards, next_states, dones"
   ],
   "outputs": [],
   "metadata": {}
  },
  {
   "cell_type": "markdown",
   "source": [
    "## Training of Network"
   ],
   "metadata": {}
  },
  {
   "cell_type": "code",
   "execution_count": 12,
   "source": [
    "score_track = []\n",
    "eps_track = []\n",
    "loss_track = []\n",
    "batch_index = np.arange(batch_size, dtype = np.int32)\n",
    "for episode in range(num_episodes):\n",
    "    print('Episode : ', episode, end='\\t')\n",
    "    score = 0\n",
    "    terminal = False\n",
    "    state = env.reset()\n",
    "    while not terminal:\n",
    "        rate = memory.get_epsilon()\n",
    "        #print(rate)\n",
    "        eps_track.append(rate)\n",
    "        action = agent.select_action(rate, state, policy_net)\n",
    "        next_state, reward, terminal, emp = env.step(action)\n",
    "        memory.store(state, action, reward, next_state, terminal)\n",
    "        state = next_state\n",
    "        score += reward\n",
    "        \n",
    "        if memory.can_provide_batch():\n",
    "            batch = memory.give_batch()\n",
    "            states, actions, rewards, next_states, dones = get_tensors(batch, device)\n",
    "            \n",
    "            current_q_values = policy_net.forward(states)[batch_index, actions]\n",
    "            current_q_values = current_q_values.reshape(-1,1)\n",
    "            next_q_values = target_net.forward(next_states)\n",
    "            next_q_values[dones] = 0.0\n",
    "            next_q_values = torch.max(next_q_values, dim=1)[0].detach()\n",
    "            \n",
    "            target_q_values = (gamma * next_q_values) + rewards\n",
    "            target_q_values = target_q_values.reshape(-1,1)\n",
    "            #print(current_q_values.shape, next_q_values.shape, rewards.shape)\n",
    "            policy_net.optimizer.zero_grad()\n",
    "            loss = policy_net.loss(target_q_values, current_q_values)\n",
    "            loss_track.append(loss.item())\n",
    "            loss.backward()\n",
    "            policy_net.optimizer.step()\n",
    "            \n",
    "    score_track.append(score)\n",
    "    print('Score : ', score)\n",
    "    if episode%update_rate==0:\n",
    "        target_net.load_state_dict(policy_net.state_dict())"
   ],
   "outputs": [
    {
     "output_type": "stream",
     "name": "stdout",
     "text": [
      "Episode :  0\tScore :  21.0\n",
      "Episode :  1\tScore :  20.0\n",
      "Episode :  2\tScore :  14.0\n",
      "Episode :  3\tScore :  14.0\n",
      "Episode :  4\tScore :  10.0\n",
      "Episode :  5\tScore :  15.0\n",
      "Episode :  6\tScore :  23.0\n",
      "Episode :  7\tScore :  9.0\n",
      "Episode :  8\tScore :  20.0\n",
      "Episode :  9\tScore :  18.0\n",
      "Episode :  10\tScore :  14.0\n",
      "Episode :  11\tScore :  11.0\n",
      "Episode :  12\tScore :  28.0\n",
      "Episode :  13\tScore :  12.0\n",
      "Episode :  14\tScore :  16.0\n",
      "Episode :  15\tScore :  14.0\n",
      "Episode :  16\tScore :  23.0\n",
      "Episode :  17\tScore :  10.0\n",
      "Episode :  18\tScore :  20.0\n",
      "Episode :  19\tScore :  18.0\n",
      "Episode :  20\tScore :  9.0\n",
      "Episode :  21\tScore :  12.0\n",
      "Episode :  22\tScore :  11.0\n",
      "Episode :  23\tScore :  14.0\n",
      "Episode :  24\tScore :  10.0\n",
      "Episode :  25\tScore :  11.0\n",
      "Episode :  26\tScore :  10.0\n",
      "Episode :  27\tScore :  16.0\n",
      "Episode :  28\tScore :  13.0\n",
      "Episode :  29\tScore :  17.0\n",
      "Episode :  30\tScore :  13.0\n",
      "Episode :  31\tScore :  9.0\n",
      "Episode :  32\tScore :  10.0\n",
      "Episode :  33\tScore :  13.0\n",
      "Episode :  34\tScore :  18.0\n",
      "Episode :  35\tScore :  9.0\n",
      "Episode :  36\tScore :  11.0\n",
      "Episode :  37\tScore :  11.0\n",
      "Episode :  38\tScore :  11.0\n",
      "Episode :  39\tScore :  10.0\n",
      "Episode :  40\tScore :  9.0\n",
      "Episode :  41\tScore :  13.0\n",
      "Episode :  42\tScore :  9.0\n",
      "Episode :  43\tScore :  11.0\n",
      "Episode :  44\tScore :  12.0\n",
      "Episode :  45\tScore :  10.0\n",
      "Episode :  46\tScore :  9.0\n",
      "Episode :  47\tScore :  12.0\n",
      "Episode :  48\tScore :  12.0\n",
      "Episode :  49\tScore :  9.0\n",
      "Episode :  50\tScore :  11.0\n",
      "Episode :  51\tScore :  10.0\n",
      "Episode :  52\tScore :  18.0\n",
      "Episode :  53\tScore :  10.0\n",
      "Episode :  54\tScore :  8.0\n",
      "Episode :  55\tScore :  11.0\n",
      "Episode :  56\tScore :  11.0\n",
      "Episode :  57\tScore :  13.0\n",
      "Episode :  58\tScore :  13.0\n",
      "Episode :  59\tScore :  14.0\n",
      "Episode :  60\tScore :  9.0\n",
      "Episode :  61\tScore :  11.0\n",
      "Episode :  62\tScore :  11.0\n",
      "Episode :  63\tScore :  10.0\n",
      "Episode :  64\tScore :  10.0\n",
      "Episode :  65\tScore :  11.0\n",
      "Episode :  66\tScore :  14.0\n",
      "Episode :  67\tScore :  12.0\n",
      "Episode :  68\tScore :  12.0\n",
      "Episode :  69\tScore :  11.0\n",
      "Episode :  70\tScore :  11.0\n",
      "Episode :  71\tScore :  11.0\n",
      "Episode :  72\tScore :  11.0\n",
      "Episode :  73\tScore :  10.0\n",
      "Episode :  74\tScore :  9.0\n",
      "Episode :  75\tScore :  14.0\n",
      "Episode :  76\tScore :  14.0\n",
      "Episode :  77\tScore :  9.0\n",
      "Episode :  78\tScore :  14.0\n",
      "Episode :  79\tScore :  17.0\n",
      "Episode :  80\tScore :  13.0\n",
      "Episode :  81\tScore :  11.0\n",
      "Episode :  82\tScore :  12.0\n",
      "Episode :  83\tScore :  10.0\n",
      "Episode :  84\tScore :  15.0\n",
      "Episode :  85\tScore :  18.0\n",
      "Episode :  86\tScore :  19.0\n",
      "Episode :  87\tScore :  16.0\n",
      "Episode :  88\tScore :  19.0\n",
      "Episode :  89\tScore :  17.0\n",
      "Episode :  90\tScore :  13.0\n",
      "Episode :  91\tScore :  15.0\n",
      "Episode :  92\tScore :  18.0\n",
      "Episode :  93\tScore :  16.0\n",
      "Episode :  94\tScore :  18.0\n",
      "Episode :  95\tScore :  24.0\n",
      "Episode :  96\tScore :  24.0\n",
      "Episode :  97\tScore :  16.0\n",
      "Episode :  98\tScore :  23.0\n",
      "Episode :  99\tScore :  31.0\n",
      "Episode :  100\tScore :  123.0\n",
      "Episode :  101\tScore :  63.0\n",
      "Episode :  102\tScore :  66.0\n",
      "Episode :  103\tScore :  40.0\n",
      "Episode :  104\tScore :  26.0\n",
      "Episode :  105\tScore :  31.0\n",
      "Episode :  106\tScore :  99.0\n",
      "Episode :  107\tScore :  44.0\n",
      "Episode :  108\tScore :  55.0\n",
      "Episode :  109\tScore :  92.0\n",
      "Episode :  110\tScore :  64.0\n",
      "Episode :  111\tScore :  25.0\n",
      "Episode :  112\tScore :  43.0\n",
      "Episode :  113\tScore :  151.0\n",
      "Episode :  114\tScore :  52.0\n",
      "Episode :  115\tScore :  96.0\n",
      "Episode :  116\tScore :  145.0\n",
      "Episode :  117\tScore :  33.0\n",
      "Episode :  118\tScore :  54.0\n",
      "Episode :  119\tScore :  28.0\n",
      "Episode :  120\tScore :  146.0\n",
      "Episode :  121\tScore :  64.0\n",
      "Episode :  122\tScore :  49.0\n",
      "Episode :  123\tScore :  53.0\n",
      "Episode :  124\tScore :  45.0\n",
      "Episode :  125\tScore :  103.0\n",
      "Episode :  126\tScore :  71.0\n",
      "Episode :  127\tScore :  51.0\n",
      "Episode :  128\tScore :  91.0\n",
      "Episode :  129\tScore :  48.0\n",
      "Episode :  130\tScore :  56.0\n",
      "Episode :  131\tScore :  58.0\n",
      "Episode :  132\tScore :  163.0\n",
      "Episode :  133\tScore :  133.0\n",
      "Episode :  134\tScore :  98.0\n",
      "Episode :  135\tScore :  95.0\n",
      "Episode :  136\tScore :  75.0\n",
      "Episode :  137\tScore :  103.0\n",
      "Episode :  138\tScore :  177.0\n",
      "Episode :  139\tScore :  158.0\n",
      "Episode :  140\tScore :  200.0\n",
      "Episode :  141\tScore :  116.0\n",
      "Episode :  142\tScore :  107.0\n",
      "Episode :  143\tScore :  145.0\n",
      "Episode :  144\tScore :  191.0\n",
      "Episode :  145\tScore :  144.0\n",
      "Episode :  146\tScore :  141.0\n",
      "Episode :  147\tScore :  134.0\n",
      "Episode :  148\tScore :  135.0\n",
      "Episode :  149\tScore :  200.0\n",
      "Episode :  150\tScore :  148.0\n",
      "Episode :  151\tScore :  200.0\n",
      "Episode :  152\tScore :  200.0\n",
      "Episode :  153\tScore :  200.0\n",
      "Episode :  154\tScore :  200.0\n",
      "Episode :  155\tScore :  200.0\n",
      "Episode :  156\tScore :  200.0\n",
      "Episode :  157\tScore :  200.0\n",
      "Episode :  158\tScore :  200.0\n",
      "Episode :  159\tScore :  200.0\n",
      "Episode :  160\tScore :  200.0\n",
      "Episode :  161\tScore :  200.0\n",
      "Episode :  162\tScore :  200.0\n",
      "Episode :  163\tScore :  170.0\n",
      "Episode :  164\tScore :  200.0\n",
      "Episode :  165\tScore :  194.0\n",
      "Episode :  166\tScore :  200.0\n",
      "Episode :  167\tScore :  200.0\n",
      "Episode :  168\tScore :  200.0\n",
      "Episode :  169\tScore :  200.0\n",
      "Episode :  170\tScore :  199.0\n",
      "Episode :  171\tScore :  200.0\n",
      "Episode :  172\tScore :  200.0\n",
      "Episode :  173\tScore :  200.0\n",
      "Episode :  174\tScore :  200.0\n",
      "Episode :  175\tScore :  196.0\n",
      "Episode :  176\tScore :  200.0\n",
      "Episode :  177\tScore :  190.0\n",
      "Episode :  178\tScore :  174.0\n",
      "Episode :  179\tScore :  200.0\n",
      "Episode :  180\tScore :  174.0\n",
      "Episode :  181\tScore :  200.0\n",
      "Episode :  182\tScore :  200.0\n",
      "Episode :  183\tScore :  200.0\n",
      "Episode :  184\tScore :  200.0\n",
      "Episode :  185\tScore :  200.0\n",
      "Episode :  186\tScore :  200.0\n",
      "Episode :  187\tScore :  200.0\n",
      "Episode :  188\tScore :  200.0\n",
      "Episode :  189\tScore :  200.0\n",
      "Episode :  190\tScore :  200.0\n",
      "Episode :  191\tScore :  200.0\n",
      "Episode :  192\tScore :  200.0\n",
      "Episode :  193\tScore :  200.0\n",
      "Episode :  194\tScore :  200.0\n",
      "Episode :  195\tScore :  194.0\n",
      "Episode :  196\tScore :  200.0\n",
      "Episode :  197\tScore :  200.0\n",
      "Episode :  198\tScore :  200.0\n",
      "Episode :  199\tScore :  200.0\n"
     ]
    }
   ],
   "metadata": {}
  },
  {
   "cell_type": "markdown",
   "source": [
    "## Plotting scores, epsilon, loss vs episodes"
   ],
   "metadata": {}
  },
  {
   "cell_type": "code",
   "execution_count": 13,
   "source": [
    "x = range(len(score_track))\n",
    "plt.plot(x, score_track)"
   ],
   "outputs": [
    {
     "output_type": "execute_result",
     "data": {
      "text/plain": [
       "[<matplotlib.lines.Line2D at 0x7fc58627c550>]"
      ]
     },
     "metadata": {},
     "execution_count": 13
    },
    {
     "output_type": "display_data",
     "data": {
      "text/plain": [
       "<Figure size 432x288 with 1 Axes>"
      ],
      "image/png": "[encoded data removed]"
     },
     "metadata": {
      "needs_background": "light"
     }
    }
   ],
   "metadata": {}
  },
  {
   "cell_type": "code",
   "execution_count": 14,
   "source": [
    "x = range(len(eps_track))\n",
    "plt.plot(x, eps_track)"
   ],
   "outputs": [
    {
     "output_type": "execute_result",
     "data": {
      "text/plain": [
       "[<matplotlib.lines.Line2D at 0x7fc58415d580>]"
      ]
     },
     "metadata": {},
     "execution_count": 14
    },
    {
     "output_type": "display_data",
     "data": {
      "text/plain": [
       "<Figure size 432x288 with 1 Axes>"
      ],
      "image/png": "[encoded data removed]"
     },
     "metadata": {
      "needs_background": "light"
     }
    }
   ],
   "metadata": {}
  },
  {
   "cell_type": "code",
   "execution_count": 15,
   "source": [
    "x = range(len(loss_track))\n",
    "plt.plot(x, loss_track)"
   ],
   "outputs": [
    {
     "output_type": "execute_result",
     "data": {
      "text/plain": [
       "[<matplotlib.lines.Line2D at 0x7fc584141640>]"
      ]
     },
     "metadata": {},
     "execution_count": 15
    },
    {
     "output_type": "display_data",
     "data": {
      "text/plain": [
       "<Figure size 432x288 with 1 Axes>"
      ],
      "image/png": "[encoded data removed]"
     },
     "metadata": {
      "needs_background": "light"
     }
    }
   ],
   "metadata": {}
  },
  {
   "cell_type": "markdown",
   "source": [
    "## Evaluating network"
   ],
   "metadata": {}
  },
  {
   "cell_type": "code",
   "execution_count": 16,
   "source": [
    "state = env.reset()\n",
    "score = 0\n",
    "games = 100\n",
    "done = False\n",
    "avg_score = []\n",
    "avg_score_track = []\n",
    "for i in range(games):\n",
    "    score = 0\n",
    "    state = env.reset()\n",
    "    done = False\n",
    "    while not done:\n",
    "        obs = torch.tensor(env.state, dtype=torch.float32).to(device)\n",
    "        action = torch.argmax(policy_net(obs)).item()\n",
    "        #action = agent.select_action(state, policy_net)\n",
    "        next_state, reward, done, _ = env.step(action)\n",
    "        score += reward\n",
    "    \n",
    "    avg_score.append(score)\n",
    "print(np.mean(avg_score))    \n",
    "#a = torch.tensor([[1,2,3,4], [1,1,1,1]], dtype=torch.float32).to(device)\n",
    "#b = policy_net(a)\n",
    "#print(b, b.shape)"
   ],
   "outputs": [
    {
     "output_type": "stream",
     "name": "stdout",
     "text": [
      "199.91\n"
     ]
    }
   ],
   "metadata": {}
  },
  {
   "cell_type": "code",
   "execution_count": null,
   "source": [],
   "outputs": [],
   "metadata": {}
  }
 ],
 "metadata": {
  "kernelspec": {
   "name": "python3",
   "display_name": "Python 3.8.10 64-bit ('rl_env': venv)"
  },
  "language_info": {
   "codemirror_mode": {
    "name": "ipython",
    "version": 3
   },
   "file_extension": ".py",
   "mimetype": "text/x-python",
   "name": "python",
   "nbconvert_exporter": "python",
   "pygments_lexer": "ipython3",
   "version": "3.8.10"
  },
  "interpreter": {
   "hash": "4256cc047278b1ac5a617c2bc040f9147e02bd5c345035616ce9dad8da5c3bed"
  }
 },
 "nbformat": 4,
 "nbformat_minor": 4
}