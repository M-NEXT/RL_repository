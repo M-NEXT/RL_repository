{
 "cells": [
  {
   "cell_type": "markdown",
   "metadata": {},
   "source": [
    "# Importing libraries"
   ]
  },
  {
   "cell_type": "code",
   "execution_count": 1,
   "metadata": {},
   "outputs": [],
   "source": [
    "import gym\n",
    "import math\n",
    "import random\n",
    "import numpy as np\n",
    "import matplotlib\n",
    "import matplotlib.pyplot as plt\n",
    "import torch\n",
    "import torch.nn as nn\n",
    "import torch.optim as optim\n",
    "import torch.nn.functional as F"
   ]
  },
  {
   "cell_type": "markdown",
   "metadata": {},
   "source": [
    "## Creating linear layer network for Function approximation"
   ]
  },
  {
   "cell_type": "code",
   "execution_count": 2,
   "metadata": {},
   "outputs": [],
   "source": [
    "class DQN(nn.Module):\n",
    "    def __init__(self, input_dims, lr):\n",
    "        super().__init__()\n",
    "        self.fc1 = nn.Linear(in_features=input_dims, out_features=32)  #\n",
    "        self.fc2 = nn.Linear(in_features=32, out_features=2)\n",
    "        #self.fc3 = nn.Linear(in_features=128, out_features=2)\n",
    "        self.optimizer = optim.Adam(self.parameters(), lr=lr)\n",
    "        self.loss = nn.MSELoss()\n",
    "        \n",
    "    def forward(self, t):\n",
    "        t = self.fc1(t)\n",
    "        t = F.relu(t)\n",
    "        t = self.fc2(t)\n",
    "        #t = F.relu(t)\n",
    "        #t = self.fc3(t)\n",
    "        return t"
   ]
  },
  {
   "cell_type": "code",
   "execution_count": 3,
   "metadata": {},
   "outputs": [],
   "source": [
    "class Agent():\n",
    "    def __init__(self, gamma, eps, eps_min, eps_decay, num_actions, device):\n",
    "        self.gamma = gamma\n",
    "        self.eps = eps\n",
    "        self.eps_min = eps_min\n",
    "        self.eps_decay = eps_decay\n",
    "        self.num_actions = num_actions\n",
    "        self.device = device\n",
    "    \n",
    "    def select_action(self, rate, state, policy_net):\n",
    "        if random.random() > rate:\n",
    "            obs = torch.tensor([state], dtype=torch.float32).to(self.device)\n",
    "            return policy_net(obs).argmax(dim=1).item()\n",
    "        else:\n",
    "            return np.random.choice(self.num_actions)"
   ]
  },
  {
   "cell_type": "code",
   "execution_count": 4,
   "metadata": {},
   "outputs": [
    {
     "data": {
      "text/plain": [
       "0.00944089156729988"
      ]
     },
     "execution_count": 4,
     "metadata": {},
     "output_type": "execute_result"
    }
   ],
   "source": [
    "random.random()"
   ]
  },
  {
   "cell_type": "code",
   "execution_count": 5,
   "metadata": {},
   "outputs": [],
   "source": [
    "class ReplayMemory():\n",
    "    def __init__(self, capacity, batch_size, input_dims, eps, eps_min, eps_decay):\n",
    "        self.capacity = capacity\n",
    "        self.batch_size = batch_size\n",
    "        self.state_memory  = np.zeros((capacity, input_dims), dtype=np.float32)\n",
    "        self.action_memory = np.zeros(capacity, dtype=np.int32)\n",
    "        self.reward_memory = np.zeros(capacity, dtype=np.float32)\n",
    "        self.next_state_memory = np.zeros((capacity, input_dims), dtype=np.float32)\n",
    "        self.terminal_memory = np.zeros(capacity, dtype=np.bool)\n",
    "        self.eps = eps\n",
    "        self.eps_min = eps_min\n",
    "        self.eps_decay = eps_decay\n",
    "        self.experience_ctr = 0\n",
    "        \n",
    "    def store(self, state, action, reward, next_state, terminal):\n",
    "        index = self.experience_ctr % self.capacity\n",
    "        self.state_memory[index] = state\n",
    "        self.action_memory[index] = action\n",
    "        self.reward_memory[index] = reward\n",
    "        self.next_state_memory[index] = next_state\n",
    "        self.terminal_memory[index] = terminal\n",
    "        self.experience_ctr += 1\n",
    "        \n",
    "    def can_provide_batch(self):\n",
    "        return self.experience_ctr >= batch_size\n",
    "    \n",
    "    def give_batch(self):\n",
    "        length = min(self.experience_ctr, self.capacity)\n",
    "        batch = np.random.choice(length, self.batch_size, replace=False)\n",
    "        states = self.state_memory[batch]\n",
    "        actions = self.action_memory[batch]\n",
    "        rewards = self.reward_memory[batch]\n",
    "        next_states = self.next_state_memory[batch]\n",
    "        terminals = self.terminal_memory[batch]\n",
    "        return (states, actions, rewards, next_states, terminals)\n",
    "    \n",
    "    def get_epsilon(self):\n",
    "        #print(self.experience_ctr)\n",
    "        rate = self.eps_min + (self.eps - self.eps_min) * math.exp(-1. * self.experience_ctr / self.eps_decay)\n",
    "        return rate"
   ]
  },
  {
   "cell_type": "code",
   "execution_count": 6,
   "metadata": {},
   "outputs": [],
   "source": [
    "batch_size = 128\n",
    "gamma = 0.999\n",
    "eps = 0.9\n",
    "eps_min = 0.05\n",
    "eps_decay = 500\n",
    "update_rate = 10\n",
    "capacity = 100000\n",
    "lr = 0.001\n",
    "input_dims = 4\n",
    "num_episodes = 150"
   ]
  },
  {
   "cell_type": "code",
   "execution_count": 7,
   "metadata": {},
   "outputs": [],
   "source": [
    "device = torch.device(\"cuda\" if torch.cuda.is_available() else \"cpu\")"
   ]
  },
  {
   "cell_type": "code",
   "execution_count": 8,
   "metadata": {},
   "outputs": [
    {
     "data": {
      "text/plain": [
       "DQN(\n",
       "  (fc1): Linear(in_features=4, out_features=32, bias=True)\n",
       "  (fc2): Linear(in_features=32, out_features=2, bias=True)\n",
       "  (loss): MSELoss()\n",
       ")"
      ]
     },
     "execution_count": 8,
     "metadata": {},
     "output_type": "execute_result"
    }
   ],
   "source": [
    "policy_net = DQN(input_dims, lr).to(device)\n",
    "target_net = DQN(input_dims, lr).to(device)\n",
    "target_net.load_state_dict(policy_net.state_dict())\n",
    "target_net.eval()"
   ]
  },
  {
   "cell_type": "code",
   "execution_count": 9,
   "metadata": {},
   "outputs": [],
   "source": [
    "agent = Agent(gamma, eps, eps_min, eps_decay, 2, device)\n",
    "memory = ReplayMemory(capacity, batch_size, 4, eps, eps_min, eps_decay)"
   ]
  },
  {
   "cell_type": "code",
   "execution_count": 10,
   "metadata": {},
   "outputs": [],
   "source": [
    "env = gym.make('CartPole-v0')"
   ]
  },
  {
   "cell_type": "code",
   "execution_count": 11,
   "metadata": {},
   "outputs": [],
   "source": [
    "def get_tensors(batch, device):\n",
    "    states = torch.tensor(batch[0]).to(device)\n",
    "    actions = batch[1]\n",
    "    rewards = torch.tensor(batch[2]).to(device)\n",
    "    next_states = torch.tensor(batch[3]).to(device)\n",
    "    dones = torch.tensor(batch[4]).to(device)\n",
    "    return states, actions, rewards, next_states, dones"
   ]
  },
  {
   "cell_type": "code",
   "execution_count": 12,
   "metadata": {},
   "outputs": [
    {
     "name": "stdout",
     "output_type": "stream",
     "text": [
      "0\n",
      "1\n",
      "2\n",
      "3\n",
      "4\n",
      "5\n",
      "6\n",
      "7\n",
      "8\n",
      "9\n",
      "10\n",
      "11\n",
      "12\n",
      "13\n",
      "14\n",
      "15\n",
      "16\n",
      "17\n",
      "18\n",
      "19\n",
      "20\n",
      "21\n",
      "22\n",
      "23\n",
      "24\n",
      "25\n",
      "26\n",
      "27\n",
      "28\n",
      "29\n",
      "30\n",
      "31\n",
      "32\n",
      "33\n",
      "34\n",
      "35\n",
      "36\n",
      "37\n",
      "38\n",
      "39\n",
      "40\n",
      "41\n",
      "42\n",
      "43\n",
      "44\n",
      "45\n",
      "46\n",
      "47\n",
      "48\n",
      "49\n",
      "50\n",
      "51\n",
      "52\n",
      "53\n",
      "54\n",
      "55\n",
      "56\n",
      "57\n",
      "58\n",
      "59\n",
      "60\n",
      "61\n",
      "62\n",
      "63\n",
      "64\n",
      "65\n",
      "66\n",
      "67\n",
      "68\n",
      "69\n",
      "70\n",
      "71\n",
      "72\n",
      "73\n",
      "74\n",
      "75\n",
      "76\n",
      "77\n",
      "78\n",
      "79\n",
      "80\n",
      "81\n",
      "82\n",
      "83\n",
      "84\n",
      "85\n",
      "86\n",
      "87\n",
      "88\n",
      "89\n",
      "90\n",
      "91\n",
      "92\n",
      "93\n",
      "94\n",
      "95\n",
      "96\n",
      "97\n",
      "98\n",
      "99\n",
      "100\n",
      "101\n",
      "102\n",
      "103\n",
      "104\n",
      "105\n",
      "106\n",
      "107\n",
      "108\n",
      "109\n",
      "110\n",
      "111\n",
      "112\n",
      "113\n",
      "114\n",
      "115\n",
      "116\n",
      "117\n",
      "118\n",
      "119\n",
      "120\n",
      "121\n",
      "122\n",
      "123\n",
      "124\n",
      "125\n",
      "126\n",
      "127\n",
      "128\n",
      "129\n",
      "130\n",
      "131\n",
      "132\n",
      "133\n",
      "134\n",
      "135\n",
      "136\n",
      "137\n",
      "138\n",
      "139\n",
      "140\n",
      "141\n",
      "142\n",
      "143\n",
      "144\n",
      "145\n",
      "146\n",
      "147\n",
      "148\n",
      "149\n"
     ]
    }
   ],
   "source": [
    "score_track = []\n",
    "eps_track = []\n",
    "loss_track = []\n",
    "batch_index = np.arange(batch_size, dtype = np.int32)\n",
    "for episode in range(num_episodes):\n",
    "    print(episode)\n",
    "    score = 0\n",
    "    terminal = False\n",
    "    state = env.reset()\n",
    "    while not terminal:\n",
    "        rate = memory.get_epsilon()\n",
    "        #print(rate)\n",
    "        eps_track.append(rate)\n",
    "        action = agent.select_action(rate, state, policy_net)\n",
    "        next_state, reward, terminal, emp = env.step(action)\n",
    "        memory.store(state, action, reward, next_state, terminal)\n",
    "        state = next_state\n",
    "        score += reward\n",
    "        \n",
    "        if memory.can_provide_batch():\n",
    "            batch = memory.give_batch()\n",
    "            states, actions, rewards, next_states, dones = get_tensors(batch, device)\n",
    "            \n",
    "            current_q_values = policy_net.forward(states)[batch_index, actions]\n",
    "            current_q_values = current_q_values.reshape(-1,1)\n",
    "            next_q_values = target_net.forward(next_states)\n",
    "            next_q_values[dones] = 0.0\n",
    "            next_q_values = torch.max(next_q_values, dim=1)[0].detach()\n",
    "            \n",
    "            target_q_values = (gamma * next_q_values) + rewards\n",
    "            target_q_values = target_q_values.reshape(-1,1)\n",
    "            #print(current_q_values.shape, next_q_values.shape, rewards.shape)\n",
    "            policy_net.optimizer.zero_grad()\n",
    "            loss = policy_net.loss(target_q_values, current_q_values)\n",
    "            loss_track.append(loss.item())\n",
    "            loss.backward()\n",
    "            policy_net.optimizer.step()\n",
    "            \n",
    "    score_track.append(score)\n",
    "    if episode%update_rate==0:\n",
    "        target_net.load_state_dict(policy_net.state_dict())"
   ]
  },
  {
   "cell_type": "code",
   "execution_count": 13,
   "metadata": {},
   "outputs": [
    {
     "data": {
      "text/plain": [
       "[<matplotlib.lines.Line2D at 0x1fd09da3848>]"
      ]
     },
     "execution_count": 13,
     "metadata": {},
     "output_type": "execute_result"
    },
    {
     "data": {
      "image/png": "[encoded data removed]",
      "text/plain": [
       "<Figure size 432x288 with 1 Axes>"
      ]
     },
     "metadata": {
      "needs_background": "light"
     },
     "output_type": "display_data"
    }
   ],
   "source": [
    "x = range(len(score_track))\n",
    "plt.plot(x, score_track)"
   ]
  },
  {
   "cell_type": "code",
   "execution_count": 14,
   "metadata": {},
   "outputs": [
    {
     "data": {
      "text/plain": [
       "[<matplotlib.lines.Line2D at 0x1fd0b542908>]"
      ]
     },
     "execution_count": 14,
     "metadata": {},
     "output_type": "execute_result"
    },
    {
     "data": {
      "image/png": "[encoded data removed]",
      "text/plain": [
       "<Figure size 432x288 with 1 Axes>"
      ]
     },
     "metadata": {
      "needs_background": "light"
     },
     "output_type": "display_data"
    }
   ],
   "source": [
    "x = range(len(eps_track))\n",
    "plt.plot(x, eps_track)"
   ]
  },
  {
   "cell_type": "code",
   "execution_count": 15,
   "metadata": {},
   "outputs": [
    {
     "data": {
      "text/plain": [
       "[<matplotlib.lines.Line2D at 0x1fd0b591cc8>]"
      ]
     },
     "execution_count": 15,
     "metadata": {},
     "output_type": "execute_result"
    },
    {
     "data": {
      "image/png": "[encoded data removed]",
      "text/plain": [
       "<Figure size 432x288 with 1 Axes>"
      ]
     },
     "metadata": {
      "needs_background": "light"
     },
     "output_type": "display_data"
    }
   ],
   "source": [
    "x = range(len(loss_track))\n",
    "plt.plot(x, loss_track)"
   ]
  },
  {
   "cell_type": "code",
   "execution_count": 16,
   "metadata": {},
   "outputs": [
    {
     "name": "stdout",
     "output_type": "stream",
     "text": [
      "199.65\n"
     ]
    }
   ],
   "source": [
    "state = env.reset()\n",
    "score = 0\n",
    "done = False\n",
    "avg_score = []\n",
    "avg_score_track = []\n",
    "for i in range(20):\n",
    "    score = 0\n",
    "    state = env.reset()\n",
    "    done = False\n",
    "    while not done:\n",
    "        obs = torch.tensor(env.state, dtype=torch.float32).to(device)\n",
    "        action = torch.argmax(policy_net(obs)).item()\n",
    "        #action = agent.select_action(state, policy_net)\n",
    "        next_state, reward, done, _ = env.step(action)\n",
    "        score += reward\n",
    "    \n",
    "    avg_score.append(score)\n",
    "print(np.mean(avg_score))    \n",
    "#a = torch.tensor([[1,2,3,4], [1,1,1,1]], dtype=torch.float32).to(device)\n",
    "#b = policy_net(a)\n",
    "#print(b, b.shape)"
   ]
  },
  {
   "cell_type": "code",
   "execution_count": null,
   "metadata": {},
   "outputs": [],
   "source": []
  }
 ],
 "metadata": {
  "kernelspec": {
   "display_name": "Python 3",
   "language": "python",
   "name": "python3"
  },
  "language_info": {
   "codemirror_mode": {
    "name": "ipython",
    "version": 3
   },
   "file_extension": ".py",
   "mimetype": "text/x-python",
   "name": "python",
   "nbconvert_exporter": "python",
   "pygments_lexer": "ipython3",
   "version": "3.7.6"
  }
 },
 "nbformat": 4,
 "nbformat_minor": 4
}
